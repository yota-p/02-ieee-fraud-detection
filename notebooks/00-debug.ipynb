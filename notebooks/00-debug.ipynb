{
 "cells": [
  {
   "cell_type": "markdown",
   "metadata": {},
   "source": [
    "# Environment setting"
   ]
  },
  {
   "cell_type": "code",
   "execution_count": 9,
   "metadata": {},
   "outputs": [
    {
     "name": "stdout",
     "output_type": "stream",
     "text": [
      "/home/yh/git/kaggle_ieee-fraud-detection/src\n",
      "\u001b[0m\u001b[30;42m__pycache__\u001b[0m/    feature_base.py      \u001b[01;32mmodelapi_factory.py\u001b[0m*  \u001b[01;32mtransformer.py\u001b[0m*\n",
      "\u001b[30;42mconfig\u001b[0m/         \u001b[01;32mfeature_factory.py\u001b[0m*  \u001b[30;42mmodels\u001b[0m/               \u001b[30;42mutils\u001b[0m/\n",
      "\u001b[01;32mconfigure.py\u001b[0m*   \u001b[30;42mfeatures\u001b[0m/            \u001b[30;42mtests\u001b[0m/                \u001b[30;42mvisualization\u001b[0m/\n",
      "\u001b[01;32mexperiment.py\u001b[0m*  \u001b[01;32mmain.py\u001b[0m*             \u001b[01;32mtrainer_factory.py\u001b[0m*\n"
     ]
    }
   ],
   "source": [
    "# move to source directory\n",
    "%pwd\n",
    "%cd ../src\n",
    "%pwd\n",
    "%ls"
   ]
  },
  {
   "cell_type": "code",
   "execution_count": 10,
   "metadata": {},
   "outputs": [],
   "source": [
    "# import major modules\n",
    "import pandas as pd\n",
    "import numpy as np\n",
    "import sys\n",
    "from pathlib import Path\n",
    "sys.stdout.flush()"
   ]
  },
  {
   "cell_type": "code",
   "execution_count": 11,
   "metadata": {},
   "outputs": [],
   "source": [
    "# major dirs\n",
    "ROOTDIR = Path('/home/yh/git/kaggle_ieee-fraud-detection/').resolve()\n",
    "DATA_DIR = ROOTDIR / 'data/processed'\n",
    "RAW_DIR = ROOTDIR / 'data/raw'"
   ]
  },
  {
   "cell_type": "markdown",
   "metadata": {},
   "source": [
    "# Read data"
   ]
  },
  {
   "cell_type": "code",
   "execution_count": 12,
   "metadata": {},
   "outputs": [
    {
     "data": {
      "text/plain": [
       "((590540, 266), (506691, 265))"
      ]
     },
     "execution_count": 12,
     "metadata": {},
     "output_type": "execute_result"
    }
   ],
   "source": [
    "train = pd.read_pickle(DATA_DIR / 'features_train.pkl')\n",
    "test = pd.read_pickle(DATA_DIR / 'features_test.pkl')\n",
    "\n",
    "train.shape, test.shape"
   ]
  },
  {
   "cell_type": "code",
   "execution_count": 14,
   "metadata": {},
   "outputs": [],
   "source": [
    "train.reset_index(inplace=True)\n",
    "train.set_index('TransactionID', drop=True, inplace=True)\n"
   ]
  },
  {
   "cell_type": "code",
   "execution_count": null,
   "metadata": {},
   "outputs": [],
   "source": []
  }
 ],
 "metadata": {
  "kernelspec": {
   "display_name": "Python 3",
   "language": "python",
   "name": "python3"
  },
  "language_info": {
   "codemirror_mode": {
    "name": "ipython",
    "version": 3
   },
   "file_extension": ".py",
   "mimetype": "text/x-python",
   "name": "python",
   "nbconvert_exporter": "python",
   "pygments_lexer": "ipython3",
   "version": "3.6.6"
  }
 },
 "nbformat": 4,
 "nbformat_minor": 2
}
