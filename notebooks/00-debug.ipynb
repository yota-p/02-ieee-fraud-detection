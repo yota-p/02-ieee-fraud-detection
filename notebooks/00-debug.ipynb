{
 "cells": [
  {
   "cell_type": "code",
   "execution_count": 6,
   "metadata": {},
   "outputs": [
    {
     "name": "stdout",
     "output_type": "stream",
     "text": [
      "/home/yh/git/kaggle_ieee-fraud-detection/src\n",
      "\u001b[0m\u001b[30;42m__pycache__\u001b[0m/    feature_base.py      \u001b[01;32mmodelapi_factory.py\u001b[0m*  \u001b[01;32mtransformer.py\u001b[0m*\n",
      "\u001b[30;42mconfig\u001b[0m/         \u001b[01;32mfeature_factory.py\u001b[0m*  \u001b[30;42mmodels\u001b[0m/               \u001b[30;42mutils\u001b[0m/\n",
      "\u001b[01;32mconfigure.py\u001b[0m*   \u001b[30;42mfeatures\u001b[0m/            \u001b[30;42mtests\u001b[0m/                \u001b[30;42mvisualization\u001b[0m/\n",
      "\u001b[01;32mexperiment.py\u001b[0m*  \u001b[01;32mmain.py\u001b[0m*             \u001b[01;32mtrainer_factory.py\u001b[0m*\n"
     ]
    }
   ],
   "source": [
    "# move to source directory\n",
    "%pwd\n",
    "%cd ../src\n",
    "%pwd\n",
    "%ls"
   ]
  },
  {
   "cell_type": "code",
   "execution_count": 7,
   "metadata": {},
   "outputs": [],
   "source": [
    "# major modules\n",
    "import pandas as pd\n",
    "import numpy as np\n",
    "import sys\n",
    "from pathlib import Path\n",
    "sys.stdout.flush()"
   ]
  },
  {
   "cell_type": "code",
   "execution_count": 19,
   "metadata": {},
   "outputs": [
    {
     "data": {
      "text/plain": [
       "((590540, 264), (506691, 263))"
      ]
     },
     "execution_count": 19,
     "metadata": {},
     "output_type": "execute_result"
    }
   ],
   "source": [
    "ROOTDIR = Path('/home/yh/git/kaggle_ieee-fraud-detection/').resolve()\n",
    "DATA_DIR = ROOTDIR / 'data/processed'\n",
    "RAW_DIR = ROOTDIR / 'data/raw'\n",
    "\n",
    "train = pd.read_pickle(DATA_DIR / 'magic_train.pkl')\n",
    "test = pd.read_pickle(DATA_DIR / 'magic_test.pkl')\n",
    "\n",
    "train.shape, test.shape"
   ]
  },
  {
   "cell_type": "code",
   "execution_count": 20,
   "metadata": {},
   "outputs": [],
   "source": [
    "cols_actual = train.columns\n",
    "cols_example = ['TransactionAmt', 'ProductCD', 'card1', 'card2', 'card3', 'card5',\n",
    "       'card6', 'addr1', 'addr2', 'dist1', 'dist2', 'P_emaildomain',\n",
    "       'R_emaildomain', 'C1', 'C2', 'C4', 'C5', 'C6', 'C7', 'C8', 'C9',\n",
    "       'C10', 'C11', 'C12', 'C13', 'C14', 'D1', 'D2', 'D3', 'D4', 'D5',\n",
    "       'D10', 'D11', 'D15', 'M1', 'M2', 'M3', 'M4', 'M6', 'M7', 'M8',\n",
    "       'M9', 'V1', 'V3', 'V4', 'V6', 'V8', 'V11', 'V13', 'V14', 'V17',\n",
    "       'V20', 'V23', 'V26', 'V27', 'V30', 'V36', 'V37', 'V40', 'V41',\n",
    "       'V44', 'V47', 'V48', 'V54', 'V56', 'V59', 'V62', 'V65', 'V67',\n",
    "       'V68', 'V70', 'V76', 'V78', 'V80', 'V82', 'V86', 'V88', 'V89',\n",
    "       'V91', 'V107', 'V108', 'V111', 'V115', 'V117', 'V120', 'V121',\n",
    "       'V123', 'V124', 'V127', 'V129', 'V130', 'V136', 'V138', 'V139',\n",
    "       'V142', 'V147', 'V156', 'V160', 'V162', 'V165', 'V166', 'V169',\n",
    "       'V171', 'V173', 'V175', 'V176', 'V178', 'V180', 'V182', 'V185',\n",
    "       'V187', 'V188', 'V198', 'V203', 'V205', 'V207', 'V209', 'V210',\n",
    "       'V215', 'V218', 'V220', 'V221', 'V223', 'V224', 'V226', 'V228',\n",
    "       'V229', 'V234', 'V235', 'V238', 'V240', 'V250', 'V252', 'V253',\n",
    "       'V257', 'V258', 'V260', 'V261', 'V264', 'V266', 'V267', 'V271',\n",
    "       'V274', 'V277', 'V281', 'V283', 'V284', 'V285', 'V286', 'V289',\n",
    "       'V291', 'V294', 'V296', 'V297', 'V301', 'V303', 'V305', 'V307',\n",
    "       'V309', 'V310', 'V314', 'V320', 'id_01', 'id_02', 'id_03', 'id_04',\n",
    "       'id_05', 'id_06', 'id_09', 'id_10', 'id_11', 'id_12', 'id_13',\n",
    "       'id_15', 'id_16', 'id_17', 'id_18', 'id_19', 'id_20', 'id_28',\n",
    "       'id_29', 'id_31', 'id_35', 'id_36', 'id_37', 'id_38', 'DeviceType',\n",
    "       'DeviceInfo', 'cents', 'addr1_FE', 'card1_FE', 'card2_FE',\n",
    "       'card3_FE', 'P_emaildomain_FE', 'card1_addr1',\n",
    "       'card1_addr1_P_emaildomain', 'card1_addr1_FE',\n",
    "       'card1_addr1_P_emaildomain_FE', 'TransactionAmt_card1_mean',\n",
    "       'TransactionAmt_card1_std', 'TransactionAmt_card1_addr1_mean',\n",
    "       'TransactionAmt_card1_addr1_std',\n",
    "       'TransactionAmt_card1_addr1_P_emaildomain_mean',\n",
    "       'TransactionAmt_card1_addr1_P_emaildomain_std', 'D9_card1_mean',\n",
    "       'D9_card1_std', 'D9_card1_addr1_mean', 'D9_card1_addr1_std',\n",
    "       'D9_card1_addr1_P_emaildomain_mean',\n",
    "       'D9_card1_addr1_P_emaildomain_std', 'D11_card1_mean',\n",
    "       'D11_card1_std', 'D11_card1_addr1_mean', 'D11_card1_addr1_std',\n",
    "       'D11_card1_addr1_P_emaildomain_mean',\n",
    "       'D11_card1_addr1_P_emaildomain_std', 'uid_FE',\n",
    "       'TransactionAmt_uid_mean', 'TransactionAmt_uid_std', 'D4_uid_mean',\n",
    "       'D4_uid_std', 'D9_uid_mean', 'D9_uid_std', 'D10_uid_mean',\n",
    "       'D10_uid_std', 'D15_uid_mean', 'D15_uid_std', 'C1_uid_mean',\n",
    "       'C2_uid_mean', 'C4_uid_mean', 'C5_uid_mean', 'C6_uid_mean',\n",
    "       'C7_uid_mean', 'C8_uid_mean', 'C9_uid_mean', 'C10_uid_mean',\n",
    "       'C11_uid_mean', 'C12_uid_mean', 'C13_uid_mean', 'C14_uid_mean',\n",
    "       'M1_uid_mean', 'M2_uid_mean', 'M3_uid_mean', 'M4_uid_mean',\n",
    "       'M5_uid_mean', 'M6_uid_mean', 'M7_uid_mean', 'M8_uid_mean',\n",
    "       'M9_uid_mean', 'uid_P_emaildomain_ct', 'uid_dist1_ct',\n",
    "       'uid_DT_M_ct', 'uid_id_02_ct', 'uid_cents_ct', 'C14_uid_std',\n",
    "       'uid_C13_ct', 'uid_V314_ct', 'uid_V127_ct', 'uid_V136_ct',\n",
    "       'uid_V309_ct', 'uid_V307_ct', 'uid_V320_ct', 'outsider15']\n"
   ]
  },
  {
   "cell_type": "code",
   "execution_count": 21,
   "metadata": {},
   "outputs": [
    {
     "name": "stdout",
     "output_type": "stream",
     "text": [
      "DIFF list1 - list2:\n",
      "isFraud\n",
      "\n",
      "DIFF list2 - list1:\n"
     ]
    }
   ],
   "source": [
    "def diff_cols(list1, list2):\n",
    "    print('DIFF list1 - list2:')\n",
    "    for col in list1:\n",
    "        if col not in list2:\n",
    "            print(col)\n",
    "\n",
    "    print('\\nDIFF list2 - list1:')\n",
    "    for col in list2:\n",
    "        if col not in list1:\n",
    "            print(col)\n",
    "\n",
    "diff_cols(cols_actual, cols_example)"
   ]
  },
  {
   "cell_type": "code",
   "execution_count": null,
   "metadata": {},
   "outputs": [],
   "source": []
  }
 ],
 "metadata": {
  "kernelspec": {
   "display_name": "Python 3",
   "language": "python",
   "name": "python3"
  },
  "language_info": {
   "codemirror_mode": {
    "name": "ipython",
    "version": 3
   },
   "file_extension": ".py",
   "mimetype": "text/x-python",
   "name": "python",
   "nbconvert_exporter": "python",
   "pygments_lexer": "ipython3",
   "version": "3.6.6"
  }
 },
 "nbformat": 4,
 "nbformat_minor": 2
}
