{
 "cells": [
  {
   "cell_type": "code",
   "execution_count": 2,
   "metadata": {},
   "outputs": [
    {
     "name": "stdout",
     "output_type": "stream",
     "text": [
      "/home/yh/git/02-ieee-fraud-detection/src\n",
      "\u001b[0m\u001b[01;32mAbstractTask.py\u001b[0m*  \u001b[30;42mdata\u001b[0m/             \u001b[01;32mmain.py\u001b[0m*    \u001b[01;32mpipeline.py\u001b[0m*     \u001b[30;42mutils\u001b[0m/\n",
      "\u001b[01;32m__init__.py\u001b[0m*      \u001b[01;32mdataset.py\u001b[0m*       \u001b[30;42mmodels\u001b[0m/     \u001b[01;32mstorage.py\u001b[0m*      \u001b[30;42mvisualization\u001b[0m/\n",
      "\u001b[30;42m__pycache__\u001b[0m/      \u001b[01;32mexperiment.py\u001b[0m*    \u001b[01;32mmylog.py\u001b[0m*   \u001b[30;42mtests\u001b[0m/\n",
      "\u001b[30;42mconfig\u001b[0m/           \u001b[01;32mfeature_base.py\u001b[0m*  \u001b[01;32mnbtest.py\u001b[0m*  \u001b[01;32mtransformer.py\u001b[0m*\n",
      "\u001b[01;32mconfigure.py\u001b[0m*     \u001b[30;42mfeatures\u001b[0m/         \u001b[01;32moption.py\u001b[0m*  \u001b[30;42mtrash\u001b[0m/\n"
     ]
    }
   ],
   "source": [
    "# move to source directory\n",
    "%pwd\n",
    "%cd ../src\n",
    "%pwd\n",
    "%ls"
   ]
  },
  {
   "cell_type": "code",
   "execution_count": 2,
   "metadata": {},
   "outputs": [],
   "source": [
    "# major modules\n",
    "import pandas as pd\n",
    "import numpy as np"
   ]
  },
  {
   "cell_type": "code",
   "execution_count": 3,
   "metadata": {},
   "outputs": [
    {
     "name": "stdout",
     "output_type": "stream",
     "text": [
      "\u001b[0m\u001b[01;32mAbstractTask.py\u001b[0m*  \u001b[30;42mdata\u001b[0m/             \u001b[01;32mmain.py\u001b[0m*    \u001b[01;32mpipeline.py\u001b[0m*     \u001b[30;42mutils\u001b[0m/\r\n",
      "\u001b[01;32m__init__.py\u001b[0m*      \u001b[01;32mdataset.py\u001b[0m*       \u001b[30;42mmodels\u001b[0m/     \u001b[01;32mstorage.py\u001b[0m*      \u001b[30;42mvisualization\u001b[0m/\r\n",
      "\u001b[30;42m__pycache__\u001b[0m/      \u001b[01;32mexperiment.py\u001b[0m*    \u001b[01;32mmylog.py\u001b[0m*   \u001b[30;42mtests\u001b[0m/\r\n",
      "\u001b[30;42mconfig\u001b[0m/           \u001b[01;32mfeature_base.py\u001b[0m*  \u001b[01;32mnbtest.py\u001b[0m*  \u001b[01;32mtransformer.py\u001b[0m*\r\n",
      "\u001b[01;32mconfigure.py\u001b[0m*     \u001b[30;42mfeatures\u001b[0m/         \u001b[01;32moption.py\u001b[0m*  \u001b[30;42mtrash\u001b[0m/\r\n"
     ]
    }
   ],
   "source": [
    "%ls"
   ]
  },
  {
   "cell_type": "code",
   "execution_count": 4,
   "metadata": {},
   "outputs": [
    {
     "name": "stdout",
     "output_type": "stream",
     "text": [
      "<_Logger main (INFO)>\n",
      "hello world\n",
      "func called\n",
      "end\n"
     ]
    }
   ],
   "source": [
    "import nbtest\n",
    "import sys\n",
    "sys.stdout.flush()"
   ]
  },
  {
   "cell_type": "code",
   "execution_count": 5,
   "metadata": {
    "scrolled": true
   },
   "outputs": [],
   "source": [
    "import pathlib\n",
    "from configure import Config\n",
    "c = Config()\n",
    "c.set_parameter(config_dir=pathlib.Path('config'), config_name='config_0000', use_option=False)\n"
   ]
  },
  {
   "cell_type": "code",
   "execution_count": 9,
   "metadata": {},
   "outputs": [
    {
     "name": "stdout",
     "output_type": "stream",
     "text": [
      "0000\n"
     ]
    }
   ],
   "source": [
    "print(str(c.runtime.VERSION))"
   ]
  },
  {
   "cell_type": "code",
   "execution_count": 1,
   "metadata": {},
   "outputs": [
    {
     "data": {
      "text/plain": [
       "'/home/yh/git/02-ieee-fraud-detection/notebooks'"
      ]
     },
     "execution_count": 1,
     "metadata": {},
     "output_type": "execute_result"
    }
   ],
   "source": []
  }
 ],
 "metadata": {
  "kernelspec": {
   "display_name": "Python 3",
   "language": "python",
   "name": "python3"
  },
  "language_info": {
   "codemirror_mode": {
    "name": "ipython",
    "version": 3
   },
   "file_extension": ".py",
   "mimetype": "text/x-python",
   "name": "python",
   "nbconvert_exporter": "python",
   "pygments_lexer": "ipython3",
   "version": "3.6.6"
  }
 },
 "nbformat": 4,
 "nbformat_minor": 2
}
