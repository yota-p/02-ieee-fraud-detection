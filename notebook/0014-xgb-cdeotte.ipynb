{
 "cells": [
  {
   "cell_type": "markdown",
   "metadata": {},
   "source": [
    "# Environment setting"
   ]
  },
  {
   "cell_type": "code",
   "execution_count": 1,
   "metadata": {
    "scrolled": true
   },
   "outputs": [
    {
     "name": "stdout",
     "output_type": "stream",
     "text": [
      "/home/yh/git/kaggle_ieee-fraud-detection\n",
      "\u001b[0m\u001b[00;38;5;244m\u001b[m\u001b[00;38;5;64mLICENSE\u001b[0m*    \u001b[00;38;5;244m\u001b[m\u001b[48;5;235;38;5;33mdata\u001b[0m/                   \u001b[00;38;5;244m\u001b[m\u001b[48;5;235;38;5;33mlog\u001b[0m/          \u001b[00;38;5;244m\u001b[m\u001b[00;38;5;64mslackauth.json\u001b[0m*\n",
      "\u001b[00;38;5;244m\u001b[m\u001b[00;38;5;64mMakefile\u001b[0m*   \u001b[00;38;5;244m\u001b[m\u001b[48;5;235;38;5;33mdeprecated\u001b[0m/             \u001b[00;38;5;244m\u001b[m\u001b[48;5;235;38;5;33mmodel\u001b[0m/        \u001b[00;38;5;244m\u001b[m\u001b[00;38;5;64mstartup-jupyter.sh\u001b[0m*\n",
      "\u001b[00;38;5;244m\u001b[m\u001b[00;38;5;64mREADME.md\u001b[0m*  \u001b[00;38;5;244m\u001b[m\u001b[48;5;235;38;5;33mfeature\u001b[0m/                \u001b[00;38;5;244m\u001b[m\u001b[48;5;235;38;5;33mnotebook\u001b[0m/     \u001b[00;38;5;244m\u001b[m\u001b[48;5;235;38;5;33mtest\u001b[0m/\n",
      "\u001b[00;38;5;244m\u001b[m\u001b[48;5;235;38;5;33mconfig\u001b[0m/     \u001b[00;38;5;244m\u001b[m\u001b[00;38;5;64mkaggle-submit-ieee.sh\u001b[0m*  \u001b[00;38;5;244m\u001b[m\u001b[00;38;5;64mrun_gbdt.py\u001b[0m*  \u001b[00;38;5;244m\u001b[m\u001b[48;5;235;38;5;33mutil\u001b[0m/\n"
     ]
    }
   ],
   "source": [
    "# move to source directory\n",
    "%cd ../\n",
    "%pwd\n",
    "%ls"
   ]
  },
  {
   "cell_type": "code",
   "execution_count": 2,
   "metadata": {},
   "outputs": [],
   "source": [
    "# import major modules\n",
    "import pandas as pd\n",
    "import numpy as np\n",
    "import sys\n",
    "from pathlib import Path\n",
    "import seaborn as sns\n",
    "import matplotlib.pyplot as plt\n",
    "sys.stdout.flush()\n",
    "from util.easydict import EasyDict\n",
    "import json"
   ]
  },
  {
   "cell_type": "code",
   "execution_count": 3,
   "metadata": {},
   "outputs": [
    {
     "data": {
      "text/plain": [
       "{'features': ['cdeotte'],\n",
       " 'model': {'type': 'xgb',\n",
       "  'params': {'booster': 'gbtree',\n",
       "   'nthread': 4,\n",
       "   'learning_rate': 0.02,\n",
       "   'min_split_loss': 0,\n",
       "   'max_depth': 12,\n",
       "   'min_child_weight': 1,\n",
       "   'subsample': 0.8,\n",
       "   'colsample_bytree': 0.4,\n",
       "   'tree_method': 'hist',\n",
       "   'eval_metric': 'auc'}},\n",
       " 'train': {'n_splits': 5,\n",
       "  'num_boost_round': 2000,\n",
       "  'early_stopping_rounds': 100,\n",
       "  'optimize_num_boost_round': False},\n",
       " 'runtime': {'version': '0014',\n",
       "  'use_small_data': False,\n",
       "  'no_send_message': False,\n",
       "  'random_seed': 42},\n",
       " 'scores': {},\n",
       " 'paths': {'out_train_path': 'data/feature/transformed_0014_train.pkl',\n",
       "  'out_test_path': 'data/feature/transformed_0014_test.pkl',\n",
       "  'out_model_dir': 'data/model/model_0014_xgb.pkl',\n",
       "  'importance_path': 'feature/importance/importance_0014.csv',\n",
       "  'out_sub_path': 'data/submission/submission_0014.csv',\n",
       "  'main_log_path': 'log/main_0014.log',\n",
       "  'train_log_path': 'log/train_0014.tsv',\n",
       "  'result': 'config/result_0014.json'}}"
      ]
     },
     "execution_count": 3,
     "metadata": {},
     "output_type": "execute_result"
    }
   ],
   "source": [
    "version = '0014'\n",
    "use_small_data = False\n",
    "dsize = '.small' if use_small_data is True else ''\n",
    "\n",
    "# import config\n",
    "r = json.load(open(f'config/result_{version}{dsize}.json'))\n",
    "r = EasyDict(r)\n",
    "r"
   ]
  },
  {
   "cell_type": "markdown",
   "metadata": {},
   "source": [
    "# Read data"
   ]
  },
  {
   "cell_type": "code",
   "execution_count": 4,
   "metadata": {},
   "outputs": [
    {
     "name": "stdout",
     "output_type": "stream",
     "text": [
      "(2000, 4)\n"
     ]
    },
    {
     "data": {
      "text/html": [
       "<div>\n",
       "<style scoped>\n",
       "    .dataframe tbody tr th:only-of-type {\n",
       "        vertical-align: middle;\n",
       "    }\n",
       "\n",
       "    .dataframe tbody tr th {\n",
       "        vertical-align: top;\n",
       "    }\n",
       "\n",
       "    .dataframe thead th {\n",
       "        text-align: right;\n",
       "    }\n",
       "</style>\n",
       "<table border=\"1\" class=\"dataframe\">\n",
       "  <thead>\n",
       "    <tr style=\"text-align: right;\">\n",
       "      <th></th>\n",
       "      <th>fold</th>\n",
       "      <th>iteration</th>\n",
       "      <th>train_auc</th>\n",
       "      <th>val_auc</th>\n",
       "    </tr>\n",
       "  </thead>\n",
       "  <tbody>\n",
       "    <tr>\n",
       "      <th>0</th>\n",
       "      <td>0</td>\n",
       "      <td>1</td>\n",
       "      <td>0.867742</td>\n",
       "      <td>0.827093</td>\n",
       "    </tr>\n",
       "    <tr>\n",
       "      <th>1</th>\n",
       "      <td>0</td>\n",
       "      <td>2</td>\n",
       "      <td>0.887139</td>\n",
       "      <td>0.846643</td>\n",
       "    </tr>\n",
       "    <tr>\n",
       "      <th>2</th>\n",
       "      <td>0</td>\n",
       "      <td>3</td>\n",
       "      <td>0.889644</td>\n",
       "      <td>0.851210</td>\n",
       "    </tr>\n",
       "    <tr>\n",
       "      <th>3</th>\n",
       "      <td>0</td>\n",
       "      <td>4</td>\n",
       "      <td>0.893215</td>\n",
       "      <td>0.856963</td>\n",
       "    </tr>\n",
       "    <tr>\n",
       "      <th>4</th>\n",
       "      <td>0</td>\n",
       "      <td>5</td>\n",
       "      <td>0.897831</td>\n",
       "      <td>0.864102</td>\n",
       "    </tr>\n",
       "  </tbody>\n",
       "</table>\n",
       "</div>"
      ],
      "text/plain": [
       "   fold  iteration  train_auc   val_auc\n",
       "0     0          1   0.867742  0.827093\n",
       "1     0          2   0.887139  0.846643\n",
       "2     0          3   0.889644  0.851210\n",
       "3     0          4   0.893215  0.856963\n",
       "4     0          5   0.897831  0.864102"
      ]
     },
     "execution_count": 4,
     "metadata": {},
     "output_type": "execute_result"
    }
   ],
   "source": [
    "log = pd.read_csv(r.paths.train_log_path, delimiter='\\t')\n",
    "print(log.shape)\n",
    "log.head()"
   ]
  },
  {
   "cell_type": "code",
   "execution_count": 5,
   "metadata": {},
   "outputs": [
    {
     "data": {
      "text/plain": [
       "Text(0, 0.5, 'auc')"
      ]
     },
     "execution_count": 5,
     "metadata": {},
     "output_type": "execute_result"
    },
    {
     "data": {
      "image/png": "[encoded data removed]",
      "text/plain": [
       "<Figure size 432x288 with 1 Axes>"
      ]
     },
     "metadata": {
      "needs_background": "light"
     },
     "output_type": "display_data"
    }
   ],
   "source": [
    "sns.lineplot(x=\"iteration\", y=\"train_auc\", data=log)\n",
    "sns.lineplot(x=\"iteration\", y=\"val_auc\", data=log)\n",
    "plt.ylabel('auc')"
   ]
  },
  {
   "cell_type": "code",
   "execution_count": 6,
   "metadata": {},
   "outputs": [
    {
     "data": {
      "text/html": [
       "<div>\n",
       "<style scoped>\n",
       "    .dataframe tbody tr th:only-of-type {\n",
       "        vertical-align: middle;\n",
       "    }\n",
       "\n",
       "    .dataframe tbody tr th {\n",
       "        vertical-align: top;\n",
       "    }\n",
       "\n",
       "    .dataframe thead th {\n",
       "        text-align: right;\n",
       "    }\n",
       "</style>\n",
       "<table border=\"1\" class=\"dataframe\">\n",
       "  <thead>\n",
       "    <tr style=\"text-align: right;\">\n",
       "      <th></th>\n",
       "      <th>feature</th>\n",
       "      <th>importance</th>\n",
       "    </tr>\n",
       "  </thead>\n",
       "  <tbody>\n",
       "    <tr>\n",
       "      <th>0</th>\n",
       "      <td>TransactionAmt</td>\n",
       "      <td>NaN</td>\n",
       "    </tr>\n",
       "    <tr>\n",
       "      <th>1</th>\n",
       "      <td>ProductCD</td>\n",
       "      <td>NaN</td>\n",
       "    </tr>\n",
       "    <tr>\n",
       "      <th>2</th>\n",
       "      <td>card1</td>\n",
       "      <td>NaN</td>\n",
       "    </tr>\n",
       "    <tr>\n",
       "      <th>3</th>\n",
       "      <td>card2</td>\n",
       "      <td>NaN</td>\n",
       "    </tr>\n",
       "    <tr>\n",
       "      <th>4</th>\n",
       "      <td>card3</td>\n",
       "      <td>NaN</td>\n",
       "    </tr>\n",
       "  </tbody>\n",
       "</table>\n",
       "</div>"
      ],
      "text/plain": [
       "          feature  importance\n",
       "0  TransactionAmt         NaN\n",
       "1       ProductCD         NaN\n",
       "2           card1         NaN\n",
       "3           card2         NaN\n",
       "4           card3         NaN"
      ]
     },
     "execution_count": 6,
     "metadata": {},
     "output_type": "execute_result"
    }
   ],
   "source": [
    "importance = pd.read_csv(r.paths.importance_path)\n",
    "importance.columns = ['feature', 'importance']\n",
    "importance.head()"
   ]
  },
  {
   "cell_type": "code",
   "execution_count": 7,
   "metadata": {},
   "outputs": [
    {
     "data": {
      "text/html": [
       "<div>\n",
       "<style scoped>\n",
       "    .dataframe tbody tr th:only-of-type {\n",
       "        vertical-align: middle;\n",
       "    }\n",
       "\n",
       "    .dataframe tbody tr th {\n",
       "        vertical-align: top;\n",
       "    }\n",
       "\n",
       "    .dataframe thead th {\n",
       "        text-align: right;\n",
       "    }\n",
       "</style>\n",
       "<table border=\"1\" class=\"dataframe\">\n",
       "  <thead>\n",
       "    <tr style=\"text-align: right;\">\n",
       "      <th></th>\n",
       "      <th>feature</th>\n",
       "      <th>importance</th>\n",
       "    </tr>\n",
       "  </thead>\n",
       "  <tbody>\n",
       "    <tr>\n",
       "      <th>0</th>\n",
       "      <td>TransactionAmt</td>\n",
       "      <td>NaN</td>\n",
       "    </tr>\n",
       "    <tr>\n",
       "      <th>1</th>\n",
       "      <td>ProductCD</td>\n",
       "      <td>NaN</td>\n",
       "    </tr>\n",
       "    <tr>\n",
       "      <th>2</th>\n",
       "      <td>card1</td>\n",
       "      <td>NaN</td>\n",
       "    </tr>\n",
       "    <tr>\n",
       "      <th>3</th>\n",
       "      <td>card2</td>\n",
       "      <td>NaN</td>\n",
       "    </tr>\n",
       "    <tr>\n",
       "      <th>4</th>\n",
       "      <td>card3</td>\n",
       "      <td>NaN</td>\n",
       "    </tr>\n",
       "  </tbody>\n",
       "</table>\n",
       "</div>"
      ],
      "text/plain": [
       "          feature  importance\n",
       "0  TransactionAmt         NaN\n",
       "1       ProductCD         NaN\n",
       "2           card1         NaN\n",
       "3           card2         NaN\n",
       "4           card3         NaN"
      ]
     },
     "execution_count": 7,
     "metadata": {},
     "output_type": "execute_result"
    }
   ],
   "source": [
    "data = importance.sort_values(by=\"importance\", ascending=False)[0:20]\n",
    "data.head()"
   ]
  },
  {
   "cell_type": "code",
   "execution_count": 8,
   "metadata": {},
   "outputs": [
    {
     "data": {
      "image/png": "[encoded data removed]",
      "text/plain": [
       "<Figure size 432x288 with 1 Axes>"
      ]
     },
     "metadata": {
      "needs_background": "light"
     },
     "output_type": "display_data"
    }
   ],
   "source": [
    "sns.barplot(x=\"importance\", y=\"feature\", data=data);"
   ]
  },
  {
   "cell_type": "code",
   "execution_count": 9,
   "metadata": {},
   "outputs": [],
   "source": [
    "importance = {'C12_uid_mean': 114, 'C14_uid_mean': 99, 'R_emaildomain': 196, 'V142': 83, 'V54': 86, 'V108': 17, 'V220': 27, 'TransactionAmt_card1_mean': 247, 'D9_card1_addr1_P_emaildomain_std': 344, 'D4_uid_std': 435, 'card1': 1148, 'D9_card1_addr1_P_emaildomain_mean': 461, 'V274': 55, 'V252': 3, 'C7_uid_mean': 126, 'V23': 196, 'TransactionAmt_card1_std': 258, 'D15_uid_std': 266, 'TransactionAmt': 1217, 'dist2': 144, 'card2': 724, 'D15': 421, 'V250': 25, 'V162': 57, 'V283': 79, 'C8_uid_mean': 129, 'id_18': 210, 'addr1': 406, 'C2': 111, 'V285': 67, 'V6': 57, 'C12': 59, 'P_emaildomain': 288, 'card3': 149, 'V185': 7, 'C4': 64, 'V264': 117, 'id_02': 381, 'V156': 118, 'V86': 80, 'TransactionAmt_uid_mean': 183, 'V130': 275, 'id_19': 208, 'C13_uid_mean': 148, 'C10': 65, 'V218': 62, 'V13': 147, 'D15_uid_mean': 281, 'D4': 296, 'V209': 6, 'D11_card1_mean': 278, 'V261': 33, 'card1_addr1': 347, 'card6': 161, 'ProductCD': 209, 'M5_uid_mean': 67, 'TransactionAmt_card1_addr1_P_emaildomain_mean': 135, 'D10': 344, 'M2_uid_mean': 183, 'V138': 17, 'D11_card1_addr1_P_emaildomain_std': 276, 'card1_addr1_P_emaildomain': 329, 'C4_uid_mean': 92, 'V307': 131, 'TransactionAmt_card1_addr1_std': 232, 'V310': 141, 'D9_card1_addr1_mean': 417, 'card1_addr1_FE': 178, 'V289': 7, 'D11_card1_addr1_std': 122, 'V188': 9, 'V44': 70, 'D10_uid_mean': 230, 'V127': 227, 'C7': 14, 'V139': 69, 'V294': 76, 'D2': 135, 'V17': 66, 'C13': 176, 'C8': 35, 'V198': 50, 'V59': 13, 'V215': 19, 'uid_V320_ct': 91, 'id_20': 119, 'id_05': 68, 'D9_uid_std': 94, 'V187': 12, 'TransactionAmt_card1_addr1_mean': 230, 'V40': 24, 'P_emaildomain_FE': 68, 'V62': 10, 'uid_V136_ct': 82, 'dist1': 200, 'V147': 41, 'C1': 114, 'V229': 40, 'D11': 342, 'card1_addr1_P_emaildomain_FE': 140, 'C10_uid_mean': 128, 'V176': 36, 'id_13': 95, 'id_01': 164, 'C14': 57, 'TransactionAmt_card1_addr1_P_emaildomain_std': 240, 'V281': 23, 'uid_C13_ct': 54, 'D9_card1_std': 244, 'D1': 103, 'M3': 28, 'V257': 16, 'addr1_FE': 165, 'card5': 354, 'V221': 44, 'id_31': 154, 'card1_FE': 195, 'C2_uid_mean': 138, 'DeviceInfo': 74, 'D9_card1_addr1_std': 258, 'V203': 54, 'V267': 7, 'card2_FE': 130, 'V260': 13, 'V258': 4, 'D3': 104, 'uid_dist1_ct': 10, 'V205': 5, 'V78': 28, 'D4_uid_mean': 182, 'id_03': 25, 'V171': 30, 'uid_cents_ct': 37, 'V253': 5, 'TransactionAmt_uid_std': 184, 'id_06': 152, 'D10_uid_std': 122, 'C1_uid_mean': 88, 'D9_uid_mean': 166, 'id_16': 45, 'M7': 28, 'V228': 16, 'id_15': 24, 'V314': 18, 'V80': 31, 'V160': 22, 'id_04': 26, 'V166': 17, 'id_29': 8, 'V175': 8, 'uid_id_02_ct': 32, 'M4_uid_mean': 68, 'D11_card1_addr1_P_emaildomain_mean': 168, 'V123': 12, 'C14_uid_std': 149, 'cents': 68, 'V26': 22, 'V3': 32, 'V136': 84, 'uid_V309_ct': 66, 'id_17': 5, 'id_09': 28, 'V37': 34, 'M7_uid_mean': 28, 'C9_uid_mean': 35, 'V165': 17, 'V277': 1, 'id_12': 4, 'id_38': 18, 'M9_uid_mean': 41, 'V291': 16, 'M3_uid_mean': 88, 'C9': 24, 'V235': 2, 'V303': 8, 'id_28': 9, 'V309': 23, 'V234': 14, 'V271': 7, 'D5': 229, 'C5_uid_mean': 20, 'DeviceType': 25, 'V56': 39, 'V207': 11, 'C11': 31, 'V320': 50, 'C5': 33, 'M6_uid_mean': 57, 'uid_FE': 60, 'M4': 38, 'V224': 8, 'V70': 8, 'V36': 55, 'V30': 14, 'uid_V127_ct': 64, 'V124': 17, 'V82': 11, 'C6': 76, 'M2': 35, 'V173': 3, 'uid_V314_ct': 36, 'D9_card1_mean': 167, 'V115': 15, 'card3_FE': 36, 'D11_card1_addr1_mean': 123, 'uid_DT_M_ct': 49, 'V4': 7, 'V178': 12, 'C11_uid_mean': 71, 'uid_V307_ct': 34, 'id_10': 7, 'D11_card1_std': 93, 'V117': 1, 'V180': 5, 'addr2': 12, 'V296': 19, 'V20': 19, 'C6_uid_mean': 50, 'V210': 1, 'V1': 3, 'uid_P_emaildomain_ct': 17, 'M9': 18, 'V47': 11, 'V68': 1, 'V284': 17, 'M8_uid_mean': 34, 'V129': 9, 'V67': 15, 'V301': 12, 'V91': 6, 'V48': 21, 'M6': 34, 'V11': 13, 'M1': 10, 'id_37': 17, 'V14': 3, 'V169': 3, 'V76': 11, 'M8': 13, 'outsider15': 2, 'V182': 2, 'id_11': 1, 'V223': 2, 'V226': 2, 'M1_uid_mean': 1, 'V297': 1}"
   ]
  },
  {
   "cell_type": "code",
   "execution_count": 22,
   "metadata": {},
   "outputs": [],
   "source": [
    "d = importance\n",
    "df = pd.DataFrame(importance, index=['feature', 'importance']).T"
   ]
  },
  {
   "cell_type": "code",
   "execution_count": 23,
   "metadata": {
    "scrolled": true
   },
   "outputs": [
    {
     "data": {
      "text/plain": [
       "<bound method NDFrame.head of                feature  importance\n",
       "C12_uid_mean       114         114\n",
       "C14_uid_mean        99          99\n",
       "R_emaildomain      196         196\n",
       "V142                83          83\n",
       "V54                 86          86\n",
       "...                ...         ...\n",
       "id_11                1           1\n",
       "V223                 2           2\n",
       "V226                 2           2\n",
       "M1_uid_mean          1           1\n",
       "V297                 1           1\n",
       "\n",
       "[246 rows x 2 columns]>"
      ]
     },
     "execution_count": 23,
     "metadata": {},
     "output_type": "execute_result"
    }
   ],
   "source": [
    "df.head"
   ]
  },
  {
   "cell_type": "code",
   "execution_count": 26,
   "metadata": {},
   "outputs": [
    {
     "data": {
      "text/html": [
       "<div>\n",
       "<style scoped>\n",
       "    .dataframe tbody tr th:only-of-type {\n",
       "        vertical-align: middle;\n",
       "    }\n",
       "\n",
       "    .dataframe tbody tr th {\n",
       "        vertical-align: top;\n",
       "    }\n",
       "\n",
       "    .dataframe thead th {\n",
       "        text-align: right;\n",
       "    }\n",
       "</style>\n",
       "<table border=\"1\" class=\"dataframe\">\n",
       "  <thead>\n",
       "    <tr style=\"text-align: right;\">\n",
       "      <th></th>\n",
       "      <th>feature</th>\n",
       "      <th>importance</th>\n",
       "    </tr>\n",
       "  </thead>\n",
       "  <tbody>\n",
       "    <tr>\n",
       "      <th>TransactionAmt</th>\n",
       "      <td>1217</td>\n",
       "      <td>1217</td>\n",
       "    </tr>\n",
       "    <tr>\n",
       "      <th>card1</th>\n",
       "      <td>1148</td>\n",
       "      <td>1148</td>\n",
       "    </tr>\n",
       "    <tr>\n",
       "      <th>card2</th>\n",
       "      <td>724</td>\n",
       "      <td>724</td>\n",
       "    </tr>\n",
       "    <tr>\n",
       "      <th>D9_card1_addr1_P_emaildomain_mean</th>\n",
       "      <td>461</td>\n",
       "      <td>461</td>\n",
       "    </tr>\n",
       "    <tr>\n",
       "      <th>D4_uid_std</th>\n",
       "      <td>435</td>\n",
       "      <td>435</td>\n",
       "    </tr>\n",
       "  </tbody>\n",
       "</table>\n",
       "</div>"
      ],
      "text/plain": [
       "                                   feature  importance\n",
       "TransactionAmt                        1217        1217\n",
       "card1                                 1148        1148\n",
       "card2                                  724         724\n",
       "D9_card1_addr1_P_emaildomain_mean      461         461\n",
       "D4_uid_std                             435         435"
      ]
     },
     "execution_count": 26,
     "metadata": {},
     "output_type": "execute_result"
    }
   ],
   "source": [
    "df = df.sort_values(by=\"importance\", ascending=False)[0:20]\n",
    "df.head()"
   ]
  }
 ],
 "metadata": {
  "kernelspec": {
   "display_name": "Python 3",
   "language": "python",
   "name": "python3"
  },
  "language_info": {
   "codemirror_mode": {
    "name": "ipython",
    "version": 3
   },
   "file_extension": ".py",
   "mimetype": "text/x-python",
   "name": "python",
   "nbconvert_exporter": "python",
   "pygments_lexer": "ipython3",
   "version": "3.6.6"
  }
 },
 "nbformat": 4,
 "nbformat_minor": 2
}
