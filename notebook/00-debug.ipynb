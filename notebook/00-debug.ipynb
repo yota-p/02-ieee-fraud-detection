{
 "cells": [
  {
   "cell_type": "markdown",
   "metadata": {},
   "source": [
    "# Environment setting"
   ]
  },
  {
   "cell_type": "code",
   "execution_count": 1,
   "metadata": {},
   "outputs": [
    {
     "name": "stdout",
     "output_type": "stream",
     "text": [
      "/home/yh/git/kaggle_ieee-fraud-detection\n",
      "\u001b[0m\u001b[00;38;5;244m\u001b[m\u001b[00;38;5;64mLICENSE\u001b[0m*    \u001b[00;38;5;244m\u001b[m\u001b[48;5;235;38;5;33mdata\u001b[0m/                   \u001b[00;38;5;244m\u001b[m\u001b[48;5;235;38;5;33mlog\u001b[0m/          \u001b[00;38;5;244m\u001b[m\u001b[00;38;5;64mstartup-jupyter.sh\u001b[0m*\n",
      "\u001b[00;38;5;244m\u001b[m\u001b[00;38;5;64mMakefile\u001b[0m*   \u001b[00;38;5;244m\u001b[m\u001b[48;5;235;38;5;33mdeprecated\u001b[0m/             \u001b[00;38;5;244m\u001b[m\u001b[48;5;235;38;5;33mmodel\u001b[0m/        \u001b[00;38;5;244m\u001b[m\u001b[48;5;235;38;5;33mtest\u001b[0m/\n",
      "\u001b[00;38;5;244m\u001b[m\u001b[00;38;5;64mREADME.md\u001b[0m*  \u001b[00;38;5;244m\u001b[m\u001b[48;5;235;38;5;33mfeature\u001b[0m/                \u001b[00;38;5;244m\u001b[m\u001b[48;5;235;38;5;33mnotebook\u001b[0m/     \u001b[00;38;5;244m\u001b[m\u001b[48;5;235;38;5;33mutil\u001b[0m/\n",
      "\u001b[00;38;5;244m\u001b[m\u001b[48;5;235;38;5;33mconfig\u001b[0m/     \u001b[00;38;5;244m\u001b[m\u001b[00;38;5;64mkaggle-submit-ieee.sh\u001b[0m*  \u001b[00;38;5;244m\u001b[m\u001b[00;38;5;64mrun_gbdt.py\u001b[0m*\n"
     ]
    }
   ],
   "source": [
    "# move to source directory\n",
    "%pwd\n",
    "%cd ../\n",
    "%pwd\n",
    "%ls"
   ]
  },
  {
   "cell_type": "code",
   "execution_count": 2,
   "metadata": {},
   "outputs": [],
   "source": [
    "# import major modules\n",
    "import pandas as pd\n",
    "import numpy as np\n",
    "import sys\n",
    "from pathlib import Path\n",
    "import seaborn as sns\n",
    "import matplotlib.pyplot as plt\n",
    "sys.stdout.flush()"
   ]
  },
  {
   "cell_type": "code",
   "execution_count": 15,
   "metadata": {},
   "outputs": [],
   "source": [
    "# Set this\n",
    "from config.config_0011 import config\n",
    "#dsize = '.small'\n",
    "dsize = ''\n",
    "fold = 1\n",
    "from util.easydict import EasyDict\n",
    "c = EasyDict(config)"
   ]
  },
  {
   "cell_type": "markdown",
   "metadata": {},
   "source": [
    "# Read data"
   ]
  },
  {
   "cell_type": "code",
   "execution_count": 16,
   "metadata": {},
   "outputs": [
    {
     "data": {
      "text/plain": [
       "{'runtime': {'ROOTDIR': PosixPath('/home/yh/git/kaggle_ieee-fraud-detection'),\n",
       "  'VERSION': '0011',\n",
       "  'RANDOM_SEED': 42,\n",
       "  'USE_SMALL_DATA': False},\n",
       " 'features': ['magic'],\n",
       " 'model': {'TYPE': 'lgb',\n",
       "  'params': {'boosting_type': 'gbdt',\n",
       "   'num_leaves': 491,\n",
       "   'max_depth': -1,\n",
       "   'learning_rate': 0.006883242363721497,\n",
       "   'objective': 'binary',\n",
       "   'min_child_weight': 0.03454472573214212,\n",
       "   'reg_alpha': 0.3899927210061127,\n",
       "   'reg_lambda': 0.6485237330340494,\n",
       "   'random_state': 47,\n",
       "   'feature_fraction': 0.3797454081646243,\n",
       "   'bagging_fraction': 0.4181193142567742,\n",
       "   'min_data_in_leaf': 106,\n",
       "   'bagging_seed': 11,\n",
       "   'metric': 'auc',\n",
       "   'verbosity': -1,\n",
       "   'max_bin': 255}},\n",
       " 'trainer': {'n_splits': 5,\n",
       "  'num_boost_round': 5000,\n",
       "  'early_stopping_rounds': 100},\n",
       " 'slackauth': {'HOST': 'slack.com',\n",
       "  'URL': '/api/chat.postMessage',\n",
       "  'CHANNEL': 'ieee-fraud-detection',\n",
       "  'NO_SEND_MESSAGE': False,\n",
       "  'TOKEN_PATH': PosixPath('/root/.slack_token')}}"
      ]
     },
     "execution_count": 16,
     "metadata": {},
     "output_type": "execute_result"
    }
   ],
   "source": [
    "c"
   ]
  },
  {
   "cell_type": "code",
   "execution_count": 17,
   "metadata": {},
   "outputs": [],
   "source": [
    "out_transformed_train_path = c.runtime.ROOTDIR / 'data/feature' / f'transformed_{c.runtime.VERSION}_train{dsize}.pkl'\n",
    "out_transformed_test_path = c.runtime.ROOTDIR / 'data/feature' / f'transformed_{c.runtime.VERSION}_test{dsize}.pkl'\n",
    "out_model_dir = c.runtime.ROOTDIR / 'data/model' / f'model_{c.runtime.VERSION}_{c.model.TYPE}{dsize}.pkl'\n",
    "out_model_fold_dir = c.runtime.ROOTDIR / 'data/model' / f'model_{c.runtime.VERSION}_{c.model.TYPE}_fold{fold}{dsize}.pkl'\n",
    "importance_path = c.runtime.ROOTDIR / 'feature/importance' / f'importance_{c.runtime.VERSION}{dsize}.csv'\n",
    "out_sub_path = c.runtime.ROOTDIR / 'data/submission' / f'submission_{c.runtime.VERSION}{dsize}.csv'\n",
    "train_log_path = c.runtime.ROOTDIR / 'log' / f'train_{c.runtime.VERSION}{dsize}.tsv'\n",
    "main_log_path = c.runtime.ROOTDIR / 'log' / f'main_{c.runtime.VERSION}{dsize}.log'"
   ]
  },
  {
   "cell_type": "code",
   "execution_count": 18,
   "metadata": {},
   "outputs": [
    {
     "name": "stdout",
     "output_type": "stream",
     "text": [
      "(8900, 4)\n"
     ]
    },
    {
     "data": {
      "text/html": [
       "<div>\n",
       "<style scoped>\n",
       "    .dataframe tbody tr th:only-of-type {\n",
       "        vertical-align: middle;\n",
       "    }\n",
       "\n",
       "    .dataframe tbody tr th {\n",
       "        vertical-align: top;\n",
       "    }\n",
       "\n",
       "    .dataframe thead th {\n",
       "        text-align: right;\n",
       "    }\n",
       "</style>\n",
       "<table border=\"1\" class=\"dataframe\">\n",
       "  <thead>\n",
       "    <tr style=\"text-align: right;\">\n",
       "      <th></th>\n",
       "      <th>fold</th>\n",
       "      <th>iteration</th>\n",
       "      <th>train_auc</th>\n",
       "      <th>val_auc</th>\n",
       "    </tr>\n",
       "  </thead>\n",
       "  <tbody>\n",
       "    <tr>\n",
       "      <th>0</th>\n",
       "      <td>1</td>\n",
       "      <td>1</td>\n",
       "      <td>0.933264</td>\n",
       "      <td>0.808523</td>\n",
       "    </tr>\n",
       "    <tr>\n",
       "      <th>1</th>\n",
       "      <td>1</td>\n",
       "      <td>2</td>\n",
       "      <td>0.944872</td>\n",
       "      <td>0.840973</td>\n",
       "    </tr>\n",
       "    <tr>\n",
       "      <th>2</th>\n",
       "      <td>1</td>\n",
       "      <td>3</td>\n",
       "      <td>0.951751</td>\n",
       "      <td>0.861101</td>\n",
       "    </tr>\n",
       "    <tr>\n",
       "      <th>3</th>\n",
       "      <td>1</td>\n",
       "      <td>4</td>\n",
       "      <td>0.955347</td>\n",
       "      <td>0.873585</td>\n",
       "    </tr>\n",
       "    <tr>\n",
       "      <th>4</th>\n",
       "      <td>1</td>\n",
       "      <td>5</td>\n",
       "      <td>0.957909</td>\n",
       "      <td>0.877546</td>\n",
       "    </tr>\n",
       "  </tbody>\n",
       "</table>\n",
       "</div>"
      ],
      "text/plain": [
       "   fold  iteration  train_auc   val_auc\n",
       "0     1          1   0.933264  0.808523\n",
       "1     1          2   0.944872  0.840973\n",
       "2     1          3   0.951751  0.861101\n",
       "3     1          4   0.955347  0.873585\n",
       "4     1          5   0.957909  0.877546"
      ]
     },
     "execution_count": 18,
     "metadata": {},
     "output_type": "execute_result"
    }
   ],
   "source": [
    "log = pd.read_csv(train_log_path, delimiter='\\t')\n",
    "print(log.shape)\n",
    "log.head()"
   ]
  },
  {
   "cell_type": "code",
   "execution_count": 19,
   "metadata": {},
   "outputs": [
    {
     "data": {
      "text/plain": [
       "Text(0, 0.5, 'auc')"
      ]
     },
     "execution_count": 19,
     "metadata": {},
     "output_type": "execute_result"
    },
    {
     "data": {
      "image/png": "[encoded data removed]",
      "text/plain": [
       "<Figure size 432x288 with 1 Axes>"
      ]
     },
     "metadata": {
      "needs_background": "light"
     },
     "output_type": "display_data"
    }
   ],
   "source": [
    "sns.lineplot(x=\"iteration\", y=\"train_auc\", data=log, palette=sns.color_palette(\"Set1\",max(log['fold'])+1), hue='fold')\n",
    "sns.lineplot(x=\"iteration\", y=\"val_auc\"  , data=log, palette=sns.color_palette(\"Set1\",max(log['fold'])+1), hue='fold')\n",
    "plt.ylabel('auc')"
   ]
  },
  {
   "cell_type": "code",
   "execution_count": 20,
   "metadata": {},
   "outputs": [
    {
     "data": {
      "text/html": [
       "<div>\n",
       "<style scoped>\n",
       "    .dataframe tbody tr th:only-of-type {\n",
       "        vertical-align: middle;\n",
       "    }\n",
       "\n",
       "    .dataframe tbody tr th {\n",
       "        vertical-align: top;\n",
       "    }\n",
       "\n",
       "    .dataframe thead th {\n",
       "        text-align: right;\n",
       "    }\n",
       "</style>\n",
       "<table border=\"1\" class=\"dataframe\">\n",
       "  <thead>\n",
       "    <tr style=\"text-align: right;\">\n",
       "      <th></th>\n",
       "      <th>feature</th>\n",
       "      <th>importance</th>\n",
       "    </tr>\n",
       "  </thead>\n",
       "  <tbody>\n",
       "    <tr>\n",
       "      <th>0</th>\n",
       "      <td>TransactionAmt</td>\n",
       "      <td>134963.344862</td>\n",
       "    </tr>\n",
       "    <tr>\n",
       "      <th>1</th>\n",
       "      <td>ProductCD</td>\n",
       "      <td>30608.762266</td>\n",
       "    </tr>\n",
       "    <tr>\n",
       "      <th>2</th>\n",
       "      <td>card1</td>\n",
       "      <td>101806.869562</td>\n",
       "    </tr>\n",
       "    <tr>\n",
       "      <th>3</th>\n",
       "      <td>card2</td>\n",
       "      <td>94185.317119</td>\n",
       "    </tr>\n",
       "    <tr>\n",
       "      <th>4</th>\n",
       "      <td>card3</td>\n",
       "      <td>26996.293384</td>\n",
       "    </tr>\n",
       "  </tbody>\n",
       "</table>\n",
       "</div>"
      ],
      "text/plain": [
       "          feature     importance\n",
       "0  TransactionAmt  134963.344862\n",
       "1       ProductCD   30608.762266\n",
       "2           card1  101806.869562\n",
       "3           card2   94185.317119\n",
       "4           card3   26996.293384"
      ]
     },
     "execution_count": 20,
     "metadata": {},
     "output_type": "execute_result"
    }
   ],
   "source": [
    "importance = pd.read_csv(importance_path)\n",
    "importance.columns = ['feature', 'importance']\n",
    "importance.head()"
   ]
  },
  {
   "cell_type": "code",
   "execution_count": 21,
   "metadata": {},
   "outputs": [
    {
     "data": {
      "text/html": [
       "<div>\n",
       "<style scoped>\n",
       "    .dataframe tbody tr th:only-of-type {\n",
       "        vertical-align: middle;\n",
       "    }\n",
       "\n",
       "    .dataframe tbody tr th {\n",
       "        vertical-align: top;\n",
       "    }\n",
       "\n",
       "    .dataframe thead th {\n",
       "        text-align: right;\n",
       "    }\n",
       "</style>\n",
       "<table border=\"1\" class=\"dataframe\">\n",
       "  <thead>\n",
       "    <tr style=\"text-align: right;\">\n",
       "      <th></th>\n",
       "      <th>feature</th>\n",
       "      <th>importance</th>\n",
       "    </tr>\n",
       "  </thead>\n",
       "  <tbody>\n",
       "    <tr>\n",
       "      <th>135</th>\n",
       "      <td>V258</td>\n",
       "      <td>560445.970650</td>\n",
       "    </tr>\n",
       "    <tr>\n",
       "      <th>134</th>\n",
       "      <td>V257</td>\n",
       "      <td>483652.892179</td>\n",
       "    </tr>\n",
       "    <tr>\n",
       "      <th>24</th>\n",
       "      <td>C13</td>\n",
       "      <td>234159.999157</td>\n",
       "    </tr>\n",
       "    <tr>\n",
       "      <th>13</th>\n",
       "      <td>C1</td>\n",
       "      <td>227633.133752</td>\n",
       "    </tr>\n",
       "    <tr>\n",
       "      <th>25</th>\n",
       "      <td>C14</td>\n",
       "      <td>213000.236108</td>\n",
       "    </tr>\n",
       "  </tbody>\n",
       "</table>\n",
       "</div>"
      ],
      "text/plain": [
       "    feature     importance\n",
       "135    V258  560445.970650\n",
       "134    V257  483652.892179\n",
       "24      C13  234159.999157\n",
       "13       C1  227633.133752\n",
       "25      C14  213000.236108"
      ]
     },
     "execution_count": 21,
     "metadata": {},
     "output_type": "execute_result"
    }
   ],
   "source": [
    "data = importance.sort_values(by=\"importance\", ascending=False)[0:20]\n",
    "data.head()"
   ]
  },
  {
   "cell_type": "code",
   "execution_count": 22,
   "metadata": {},
   "outputs": [
    {
     "data": {
      "image/png": "[encoded data removed]",
      "text/plain": [
       "<Figure size 432x288 with 1 Axes>"
      ]
     },
     "metadata": {
      "needs_background": "light"
     },
     "output_type": "display_data"
    }
   ],
   "source": [
    "sns.barplot(x=\"importance\", y=\"feature\", data=data);"
   ]
  },
  {
   "cell_type": "code",
   "execution_count": 73,
   "metadata": {},
   "outputs": [
    {
     "data": {
      "text/plain": [
       "PosixPath('/home/yh/git/kaggle_ieee-fraud-detection/feature/importance/importance_0010.csv')"
      ]
     },
     "execution_count": 73,
     "metadata": {},
     "output_type": "execute_result"
    }
   ],
   "source": [
    "importance_path"
   ]
  }
 ],
 "metadata": {
  "kernelspec": {
   "display_name": "Python 3",
   "language": "python",
   "name": "python3"
  },
  "language_info": {
   "codemirror_mode": {
    "name": "ipython",
    "version": 3
   },
   "file_extension": ".py",
   "mimetype": "text/x-python",
   "name": "python",
   "nbconvert_exporter": "python",
   "pygments_lexer": "ipython3",
   "version": "3.6.6"
  }
 },
 "nbformat": 4,
 "nbformat_minor": 2
}
