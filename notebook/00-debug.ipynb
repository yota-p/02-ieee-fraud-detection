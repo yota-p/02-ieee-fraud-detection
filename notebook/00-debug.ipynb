{
 "cells": [
  {
   "cell_type": "markdown",
   "metadata": {},
   "source": [
    "# Environment setting"
   ]
  },
  {
   "cell_type": "code",
   "execution_count": 2,
   "metadata": {},
   "outputs": [
    {
     "name": "stdout",
     "output_type": "stream",
     "text": [
      "/home/yh/git/kaggle_ieee-fraud-detection\n",
      "\u001b[0m\u001b[00;38;5;244m\u001b[m\u001b[00;38;5;64mLICENSE\u001b[0m*    \u001b[00;38;5;244m\u001b[m\u001b[00;38;5;64mkaggle-submit-ieee.sh\u001b[0m*   \u001b[00;38;5;244m\u001b[m\u001b[00;38;5;64mrun_0008-magic-xgb.py\u001b[0m*\n",
      "\u001b[00;38;5;244m\u001b[m\u001b[00;38;5;64mMakefile\u001b[0m*   \u001b[00;38;5;244m\u001b[m\u001b[48;5;235;38;5;33mlog\u001b[0m/                     \u001b[00;38;5;244m\u001b[m\u001b[48;5;235;38;5;33msrc\u001b[0m/\n",
      "\u001b[00;38;5;244m\u001b[m\u001b[00;38;5;64mREADME.md\u001b[0m*  \u001b[00;38;5;244m\u001b[m\u001b[48;5;235;38;5;33mmodel\u001b[0m/                   \u001b[00;38;5;244m\u001b[m\u001b[00;38;5;64mstartup-jupyter.sh\u001b[0m*\n",
      "\u001b[00;38;5;244m\u001b[m\u001b[48;5;235;38;5;33mconfig\u001b[0m/     \u001b[00;38;5;244m\u001b[m\u001b[48;5;235;38;5;33mnotebook\u001b[0m/                \u001b[00;38;5;244m\u001b[m\u001b[48;5;235;38;5;33mutil\u001b[0m/\n",
      "\u001b[00;38;5;244m\u001b[m\u001b[48;5;235;38;5;33mdata\u001b[0m/       \u001b[00;38;5;244m\u001b[m\u001b[00;38;5;64mrun_0006-nroman-lgb.py\u001b[0m*\n",
      "\u001b[00;38;5;244m\u001b[m\u001b[48;5;235;38;5;33mfeature\u001b[0m/    \u001b[00;38;5;244m\u001b[m\u001b[00;38;5;64mrun_0007-nroman-lgb.py\u001b[0m*\n"
     ]
    }
   ],
   "source": [
    "# move to source directory\n",
    "%pwd\n",
    "%cd ../\n",
    "%pwd\n",
    "%ls"
   ]
  },
  {
   "cell_type": "code",
   "execution_count": 3,
   "metadata": {},
   "outputs": [],
   "source": [
    "# import major modules\n",
    "import pandas as pd\n",
    "import numpy as np\n",
    "import sys\n",
    "from pathlib import Path\n",
    "import seaborn as sns\n",
    "import matplotlib.pyplot as plt\n",
    "sys.stdout.flush()"
   ]
  },
  {
   "cell_type": "code",
   "execution_count": 6,
   "metadata": {},
   "outputs": [
    {
     "data": {
      "text/plain": [
       "dict_keys(['runtime', 'transformer', 'model', 'trainer', 'log'])"
      ]
     },
     "execution_count": 6,
     "metadata": {},
     "output_type": "execute_result"
    }
   ],
   "source": [
    "from config.config_0007 import config\n",
    "from util.easydict import EasyDict\n",
    "c = EasyDict(config)\n",
    "c.keys()"
   ]
  },
  {
   "cell_type": "markdown",
   "metadata": {},
   "source": [
    "# Read data"
   ]
  },
  {
   "cell_type": "code",
   "execution_count": 7,
   "metadata": {},
   "outputs": [
    {
     "data": {
      "text/plain": [
       "{'VERSION': '0007',\n",
       " 'main_log_path': PosixPath('/home/yh/git/kaggle_ieee-fraud-detection/log/main_0007.log'),\n",
       " 'train_log_path': PosixPath('/home/yh/git/kaggle_ieee-fraud-detection/log/train_0007.tsv'),\n",
       " 'FILE_HANDLER_LEVEL': 10,\n",
       " 'STREAM_HANDLER_LEVEL': 10,\n",
       " 'SLACK_HANDLER_LEVEL': 20,\n",
       " 'slackauth': {'HOST': 'slack.com',\n",
       "  'URL': '/api/chat.postMessage',\n",
       "  'CHANNEL': 'ieee-fraud-detection',\n",
       "  'NO_SEND_MESSAGE': False,\n",
       "  'TOKEN_PATH': PosixPath('/root/.slack_token')}}"
      ]
     },
     "execution_count": 7,
     "metadata": {},
     "output_type": "execute_result"
    }
   ],
   "source": [
    "c.log"
   ]
  },
  {
   "cell_type": "code",
   "execution_count": 15,
   "metadata": {},
   "outputs": [
    {
     "name": "stdout",
     "output_type": "stream",
     "text": [
      "(438, 4)\n"
     ]
    },
    {
     "data": {
      "text/html": [
       "<div>\n",
       "<style scoped>\n",
       "    .dataframe tbody tr th:only-of-type {\n",
       "        vertical-align: middle;\n",
       "    }\n",
       "\n",
       "    .dataframe tbody tr th {\n",
       "        vertical-align: top;\n",
       "    }\n",
       "\n",
       "    .dataframe thead th {\n",
       "        text-align: right;\n",
       "    }\n",
       "</style>\n",
       "<table border=\"1\" class=\"dataframe\">\n",
       "  <thead>\n",
       "    <tr style=\"text-align: right;\">\n",
       "      <th></th>\n",
       "      <th>fold</th>\n",
       "      <th>iteration</th>\n",
       "      <th>train_auc</th>\n",
       "      <th>val_auc</th>\n",
       "    </tr>\n",
       "  </thead>\n",
       "  <tbody>\n",
       "    <tr>\n",
       "      <th>433</th>\n",
       "      <td>5</td>\n",
       "      <td>960</td>\n",
       "      <td>0.996500</td>\n",
       "      <td>0.936205</td>\n",
       "    </tr>\n",
       "    <tr>\n",
       "      <th>434</th>\n",
       "      <td>5</td>\n",
       "      <td>970</td>\n",
       "      <td>0.996616</td>\n",
       "      <td>0.936316</td>\n",
       "    </tr>\n",
       "    <tr>\n",
       "      <th>435</th>\n",
       "      <td>5</td>\n",
       "      <td>980</td>\n",
       "      <td>0.996745</td>\n",
       "      <td>0.936367</td>\n",
       "    </tr>\n",
       "    <tr>\n",
       "      <th>436</th>\n",
       "      <td>5</td>\n",
       "      <td>990</td>\n",
       "      <td>0.996860</td>\n",
       "      <td>0.936404</td>\n",
       "    </tr>\n",
       "    <tr>\n",
       "      <th>437</th>\n",
       "      <td>5</td>\n",
       "      <td>1000</td>\n",
       "      <td>0.996978</td>\n",
       "      <td>0.936471</td>\n",
       "    </tr>\n",
       "  </tbody>\n",
       "</table>\n",
       "</div>"
      ],
      "text/plain": [
       "     fold  iteration  train_auc   val_auc\n",
       "433     5        960   0.996500  0.936205\n",
       "434     5        970   0.996616  0.936316\n",
       "435     5        980   0.996745  0.936367\n",
       "436     5        990   0.996860  0.936404\n",
       "437     5       1000   0.996978  0.936471"
      ]
     },
     "execution_count": 15,
     "metadata": {},
     "output_type": "execute_result"
    }
   ],
   "source": [
    "log = pd.read_csv(c.log.train_log_path, delimiter='\\t')\n",
    "print(log.shape)\n",
    "log.head()\n",
    "log.tail()"
   ]
  },
  {
   "cell_type": "code",
   "execution_count": 17,
   "metadata": {},
   "outputs": [
    {
     "data": {
      "text/plain": [
       "Text(0, 0.5, 'auc')"
      ]
     },
     "execution_count": 17,
     "metadata": {},
     "output_type": "execute_result"
    },
    {
     "data": {
      "image/png": "[encoded data removed]",
      "text/plain": [
       "<Figure size 432x288 with 1 Axes>"
      ]
     },
     "metadata": {
      "needs_background": "light"
     },
     "output_type": "display_data"
    }
   ],
   "source": [
    "sns.lineplot(x=\"iteration\", y=\"train_auc\", data=log, palette=sns.color_palette(\"Set1\", 5), hue='fold')\n",
    "sns.lineplot(x=\"iteration\", y=\"val_auc\", data=log, palette=sns.color_palette(\"Set1\", 5), hue='fold')\n",
    "plt.ylabel('auc')"
   ]
  }
 ],
 "metadata": {
  "kernelspec": {
   "display_name": "Python 3",
   "language": "python",
   "name": "python3"
  },
  "language_info": {
   "codemirror_mode": {
    "name": "ipython",
    "version": 3
   },
   "file_extension": ".py",
   "mimetype": "text/x-python",
   "name": "python",
   "nbconvert_exporter": "python",
   "pygments_lexer": "ipython3",
   "version": "3.6.6"
  }
 },
 "nbformat": 4,
 "nbformat_minor": 2
}
