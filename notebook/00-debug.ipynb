{
 "cells": [
  {
   "cell_type": "markdown",
   "metadata": {},
   "source": [
    "# Environment setting"
   ]
  },
  {
   "cell_type": "code",
   "execution_count": 1,
   "metadata": {},
   "outputs": [
    {
     "name": "stdout",
     "output_type": "stream",
     "text": [
      "/home/yh/git/kaggle_ieee-fraud-detection\n",
      "\u001b[0m\u001b[00;38;5;244m\u001b[m\u001b[00;38;5;64mLICENSE\u001b[0m*    \u001b[00;38;5;244m\u001b[m\u001b[00;38;5;64mkaggle-submit-ieee.sh\u001b[0m*   \u001b[00;38;5;244m\u001b[m\u001b[00;38;5;64mrun_0008-xgb-magic.py\u001b[0m*\n",
      "\u001b[00;38;5;244m\u001b[m\u001b[00;38;5;64mMakefile\u001b[0m*   \u001b[00;38;5;244m\u001b[m\u001b[48;5;235;38;5;33mlog\u001b[0m/                     \u001b[00;38;5;244m\u001b[m\u001b[00;38;5;64mrun_0009-xgb-nroman.py\u001b[0m*\n",
      "\u001b[00;38;5;244m\u001b[m\u001b[00;38;5;64mREADME.md\u001b[0m*  \u001b[00;38;5;244m\u001b[m\u001b[48;5;235;38;5;33mmodel\u001b[0m/                   \u001b[00;38;5;244m\u001b[m\u001b[48;5;235;38;5;33msrc\u001b[0m/\n",
      "\u001b[00;38;5;244m\u001b[m\u001b[48;5;235;38;5;33mconfig\u001b[0m/     \u001b[00;38;5;244m\u001b[m\u001b[48;5;235;38;5;33mnotebook\u001b[0m/                \u001b[00;38;5;244m\u001b[m\u001b[00;38;5;64mstartup-jupyter.sh\u001b[0m*\n",
      "\u001b[00;38;5;244m\u001b[m\u001b[48;5;235;38;5;33mdata\u001b[0m/       \u001b[00;38;5;244m\u001b[m\u001b[00;38;5;64mrun_0006-lgb-magic.py\u001b[0m*   \u001b[00;38;5;244m\u001b[m\u001b[48;5;235;38;5;33mutil\u001b[0m/\n",
      "\u001b[00;38;5;244m\u001b[m\u001b[48;5;235;38;5;33mfeature\u001b[0m/    \u001b[00;38;5;244m\u001b[m\u001b[00;38;5;64mrun_0007-lgb-nroman.py\u001b[0m*\n"
     ]
    }
   ],
   "source": [
    "# move to source directory\n",
    "%pwd\n",
    "%cd ../\n",
    "%pwd\n",
    "%ls"
   ]
  },
  {
   "cell_type": "code",
   "execution_count": 2,
   "metadata": {},
   "outputs": [],
   "source": [
    "# import major modules\n",
    "import pandas as pd\n",
    "import numpy as np\n",
    "import sys\n",
    "from pathlib import Path\n",
    "import seaborn as sns\n",
    "import matplotlib.pyplot as plt\n",
    "sys.stdout.flush()"
   ]
  },
  {
   "cell_type": "code",
   "execution_count": 8,
   "metadata": {},
   "outputs": [
    {
     "data": {
      "text/plain": [
       "dict_keys(['runtime', 'transformer', 'model', 'trainer', 'log'])"
      ]
     },
     "execution_count": 8,
     "metadata": {},
     "output_type": "execute_result"
    }
   ],
   "source": [
    "from config.config_0008 import config\n",
    "from util.easydict import EasyDict\n",
    "c = EasyDict(config)\n",
    "c.keys()"
   ]
  },
  {
   "cell_type": "markdown",
   "metadata": {},
   "source": [
    "# Read data"
   ]
  },
  {
   "cell_type": "code",
   "execution_count": 9,
   "metadata": {},
   "outputs": [
    {
     "data": {
      "text/plain": [
       "{'runtime': {'ROOTDIR': PosixPath('/home/yh/git/kaggle_ieee-fraud-detection'),\n",
       "  'VERSION': '0008',\n",
       "  'RANDOM_SEED': 42,\n",
       "  'DESCRIPTION': 'xgb-magic',\n",
       "  'RUN_TRAIN': True,\n",
       "  'RUN_PRED': True,\n",
       "  'out_sub_path': PosixPath('/home/yh/git/kaggle_ieee-fraud-detection/data/submission/submission_0008.csv')},\n",
       " 'transformer': {'ROOTDIR': PosixPath('/home/yh/git/kaggle_ieee-fraud-detection'),\n",
       "  'VERSION': '0008',\n",
       "  'features': ['magic'],\n",
       "  'USE_SMALL_DATA': True,\n",
       "  'out_train_path': PosixPath('/home/yh/git/kaggle_ieee-fraud-detection/data/feature/transformed_0008_train.pkl'),\n",
       "  'out_test_path': PosixPath('/home/yh/git/kaggle_ieee-fraud-detection/data/feature/transformed_0008_test.pkl')},\n",
       " 'model': {'TYPE': 'xgb',\n",
       "  'params': {'num_boost_round': 10000,\n",
       "   'max_depth': 5,\n",
       "   'learning_rate': 0.01,\n",
       "   'subsample': 0.9,\n",
       "   'colsample_bytree': 0.9,\n",
       "   'missing': nan,\n",
       "   'eval_metric': 'auc',\n",
       "   'nthread': 4,\n",
       "   'tree_method': 'hist',\n",
       "   'early_stopping_rounds': 10},\n",
       "  'dir': PosixPath('/home/yh/git/kaggle_ieee-fraud-detection/data/model')},\n",
       " 'trainer': {'n_splits': 5},\n",
       " 'log': {'VERSION': '0008',\n",
       "  'main_log_path': PosixPath('/home/yh/git/kaggle_ieee-fraud-detection/log/main_0008.log'),\n",
       "  'train_log_path': PosixPath('/home/yh/git/kaggle_ieee-fraud-detection/log/train_0008.tsv'),\n",
       "  'FILE_HANDLER_LEVEL': 10,\n",
       "  'STREAM_HANDLER_LEVEL': 10,\n",
       "  'SLACK_HANDLER_LEVEL': 20,\n",
       "  'slackauth': {'HOST': 'slack.com',\n",
       "   'URL': '/api/chat.postMessage',\n",
       "   'CHANNEL': 'ieee-fraud-detection',\n",
       "   'NO_SEND_MESSAGE': False,\n",
       "   'TOKEN_PATH': PosixPath('/root/.slack_token')}}}"
      ]
     },
     "execution_count": 9,
     "metadata": {},
     "output_type": "execute_result"
    }
   ],
   "source": [
    "c"
   ]
  },
  {
   "cell_type": "code",
   "execution_count": 11,
   "metadata": {},
   "outputs": [
    {
     "name": "stdout",
     "output_type": "stream",
     "text": [
      "(1000, 4)\n"
     ]
    },
    {
     "data": {
      "text/html": [
       "<div>\n",
       "<style scoped>\n",
       "    .dataframe tbody tr th:only-of-type {\n",
       "        vertical-align: middle;\n",
       "    }\n",
       "\n",
       "    .dataframe tbody tr th {\n",
       "        vertical-align: top;\n",
       "    }\n",
       "\n",
       "    .dataframe thead th {\n",
       "        text-align: right;\n",
       "    }\n",
       "</style>\n",
       "<table border=\"1\" class=\"dataframe\">\n",
       "  <thead>\n",
       "    <tr style=\"text-align: right;\">\n",
       "      <th></th>\n",
       "      <th>fold</th>\n",
       "      <th>iteration</th>\n",
       "      <th>train_auc</th>\n",
       "      <th>eval_auc</th>\n",
       "    </tr>\n",
       "  </thead>\n",
       "  <tbody>\n",
       "    <tr>\n",
       "      <th>995</th>\n",
       "      <td>1</td>\n",
       "      <td>9960</td>\n",
       "      <td>1.0</td>\n",
       "      <td>0.826345</td>\n",
       "    </tr>\n",
       "    <tr>\n",
       "      <th>996</th>\n",
       "      <td>1</td>\n",
       "      <td>9970</td>\n",
       "      <td>1.0</td>\n",
       "      <td>0.826357</td>\n",
       "    </tr>\n",
       "    <tr>\n",
       "      <th>997</th>\n",
       "      <td>1</td>\n",
       "      <td>9980</td>\n",
       "      <td>1.0</td>\n",
       "      <td>0.826414</td>\n",
       "    </tr>\n",
       "    <tr>\n",
       "      <th>998</th>\n",
       "      <td>1</td>\n",
       "      <td>9990</td>\n",
       "      <td>1.0</td>\n",
       "      <td>0.826458</td>\n",
       "    </tr>\n",
       "    <tr>\n",
       "      <th>999</th>\n",
       "      <td>1</td>\n",
       "      <td>10000</td>\n",
       "      <td>1.0</td>\n",
       "      <td>0.826471</td>\n",
       "    </tr>\n",
       "  </tbody>\n",
       "</table>\n",
       "</div>"
      ],
      "text/plain": [
       "     fold  iteration  train_auc  eval_auc\n",
       "995     1       9960        1.0  0.826345\n",
       "996     1       9970        1.0  0.826357\n",
       "997     1       9980        1.0  0.826414\n",
       "998     1       9990        1.0  0.826458\n",
       "999     1      10000        1.0  0.826471"
      ]
     },
     "execution_count": 11,
     "metadata": {},
     "output_type": "execute_result"
    }
   ],
   "source": [
    "log = pd.read_csv(c.log.train_log_path, delimiter='\\t')\n",
    "print(log.shape)\n",
    "log.head()\n",
    "log.tail()"
   ]
  },
  {
   "cell_type": "code",
   "execution_count": 8,
   "metadata": {},
   "outputs": [
    {
     "data": {
      "text/plain": [
       "Text(0, 0.5, 'auc')"
      ]
     },
     "execution_count": 8,
     "metadata": {},
     "output_type": "execute_result"
    },
    {
     "data": {
      "image/png": "[encoded data removed]",
      "text/plain": [
       "<Figure size 432x288 with 1 Axes>"
      ]
     },
     "metadata": {
      "needs_background": "light"
     },
     "output_type": "display_data"
    }
   ],
   "source": [
    "sns.lineplot(x=\"iteration\", y=\"train_auc\", data=log, palette=sns.color_palette(\"Set1\", 5), hue='fold')\n",
    "sns.lineplot(x=\"iteration\", y=\"val_auc\", data=log, palette=sns.color_palette(\"Set1\", 5), hue='fold')\n",
    "plt.ylabel('auc')"
   ]
  },
  {
   "cell_type": "code",
   "execution_count": 9,
   "metadata": {},
   "outputs": [
    {
     "data": {
      "text/html": [
       "<div>\n",
       "<style scoped>\n",
       "    .dataframe tbody tr th:only-of-type {\n",
       "        vertical-align: middle;\n",
       "    }\n",
       "\n",
       "    .dataframe tbody tr th {\n",
       "        vertical-align: top;\n",
       "    }\n",
       "\n",
       "    .dataframe thead th {\n",
       "        text-align: right;\n",
       "    }\n",
       "</style>\n",
       "<table border=\"1\" class=\"dataframe\">\n",
       "  <thead>\n",
       "    <tr style=\"text-align: right;\">\n",
       "      <th></th>\n",
       "      <th>feature</th>\n",
       "      <th>importance</th>\n",
       "    </tr>\n",
       "  </thead>\n",
       "  <tbody>\n",
       "    <tr>\n",
       "      <th>0</th>\n",
       "      <td>TransactionAmt</td>\n",
       "      <td>0.0</td>\n",
       "    </tr>\n",
       "    <tr>\n",
       "      <th>1</th>\n",
       "      <td>ProductCD</td>\n",
       "      <td>0.0</td>\n",
       "    </tr>\n",
       "    <tr>\n",
       "      <th>2</th>\n",
       "      <td>card1</td>\n",
       "      <td>0.0</td>\n",
       "    </tr>\n",
       "    <tr>\n",
       "      <th>3</th>\n",
       "      <td>card2</td>\n",
       "      <td>0.0</td>\n",
       "    </tr>\n",
       "    <tr>\n",
       "      <th>4</th>\n",
       "      <td>card3</td>\n",
       "      <td>0.0</td>\n",
       "    </tr>\n",
       "  </tbody>\n",
       "</table>\n",
       "</div>"
      ],
      "text/plain": [
       "          feature  importance\n",
       "0  TransactionAmt         0.0\n",
       "1       ProductCD         0.0\n",
       "2           card1         0.0\n",
       "3           card2         0.0\n",
       "4           card3         0.0"
      ]
     },
     "execution_count": 9,
     "metadata": {},
     "output_type": "execute_result"
    }
   ],
   "source": [
    "importance = pd.read_csv('feature/importance/importance_0007.csv')\n",
    "importance.columns = ['feature', 'importance']\n",
    "importance.head()"
   ]
  },
  {
   "cell_type": "code",
   "execution_count": 10,
   "metadata": {},
   "outputs": [
    {
     "data": {
      "text/html": [
       "<div>\n",
       "<style scoped>\n",
       "    .dataframe tbody tr th:only-of-type {\n",
       "        vertical-align: middle;\n",
       "    }\n",
       "\n",
       "    .dataframe tbody tr th {\n",
       "        vertical-align: top;\n",
       "    }\n",
       "\n",
       "    .dataframe thead th {\n",
       "        text-align: right;\n",
       "    }\n",
       "</style>\n",
       "<table border=\"1\" class=\"dataframe\">\n",
       "  <thead>\n",
       "    <tr style=\"text-align: right;\">\n",
       "      <th></th>\n",
       "      <th>feature</th>\n",
       "      <th>importance</th>\n",
       "    </tr>\n",
       "  </thead>\n",
       "  <tbody>\n",
       "    <tr>\n",
       "      <th>260</th>\n",
       "      <td>id_06</td>\n",
       "      <td>38.447701</td>\n",
       "    </tr>\n",
       "    <tr>\n",
       "      <th>213</th>\n",
       "      <td>V268</td>\n",
       "      <td>33.701099</td>\n",
       "    </tr>\n",
       "    <tr>\n",
       "      <th>285</th>\n",
       "      <td>D11__DeviceInfo</td>\n",
       "      <td>3.473750</td>\n",
       "    </tr>\n",
       "    <tr>\n",
       "      <th>237</th>\n",
       "      <td>V307</td>\n",
       "      <td>3.007280</td>\n",
       "    </tr>\n",
       "    <tr>\n",
       "      <th>196</th>\n",
       "      <td>V245</td>\n",
       "      <td>0.000000</td>\n",
       "    </tr>\n",
       "  </tbody>\n",
       "</table>\n",
       "</div>"
      ],
      "text/plain": [
       "             feature  importance\n",
       "260            id_06   38.447701\n",
       "213             V268   33.701099\n",
       "285  D11__DeviceInfo    3.473750\n",
       "237             V307    3.007280\n",
       "196             V245    0.000000"
      ]
     },
     "execution_count": 10,
     "metadata": {},
     "output_type": "execute_result"
    }
   ],
   "source": [
    "data = importance.sort_values(by=\"importance\", ascending=False)[0:20]\n",
    "data.head()"
   ]
  },
  {
   "cell_type": "code",
   "execution_count": 11,
   "metadata": {},
   "outputs": [
    {
     "data": {
      "image/png": "[encoded data removed]",
      "text/plain": [
       "<Figure size 432x288 with 1 Axes>"
      ]
     },
     "metadata": {
      "needs_background": "light"
     },
     "output_type": "display_data"
    }
   ],
   "source": [
    "sns.barplot(x=\"importance\", y=\"feature\", data=data);"
   ]
  },
  {
   "cell_type": "code",
   "execution_count": null,
   "metadata": {},
   "outputs": [],
   "source": []
  }
 ],
 "metadata": {
  "kernelspec": {
   "display_name": "Python 3",
   "language": "python",
   "name": "python3"
  },
  "language_info": {
   "codemirror_mode": {
    "name": "ipython",
    "version": 3
   },
   "file_extension": ".py",
   "mimetype": "text/x-python",
   "name": "python",
   "nbconvert_exporter": "python",
   "pygments_lexer": "ipython3",
   "version": "3.6.6"
  }
 },
 "nbformat": 4,
 "nbformat_minor": 2
}
